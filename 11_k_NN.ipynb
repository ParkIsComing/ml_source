{
  "nbformat": 4,
  "nbformat_minor": 0,
  "metadata": {
    "colab": {
      "provenance": []
    },
    "kernelspec": {
      "name": "python3",
      "display_name": "Python 3"
    },
    "language_info": {
      "name": "python"
    }
  },
  "cells": [
    {
      "cell_type": "code",
      "execution_count": 1,
      "metadata": {
        "colab": {
          "base_uri": "https://localhost:8080/"
        },
        "id": "uiRpTjFKkCHc",
        "outputId": "b38eb21f-a3a4-496b-893b-c9bae1805c5b"
      },
      "outputs": [
        {
          "output_type": "stream",
          "name": "stdout",
          "text": [
            "Drive already mounted at /content/drive; to attempt to forcibly remount, call drive.mount(\"/content/drive\", force_remount=True).\n"
          ]
        }
      ],
      "source": [
        "from google.colab import drive\n",
        "drive.mount('/content/drive')"
      ]
    },
    {
      "cell_type": "code",
      "source": [
        "import pandas as pd\n",
        "from sklearn.preprocessing import StandardScaler\n",
        "from sklearn.model_selection import train_test_split\n",
        "from sklearn.neighbors import KNeighborsClassifier\n",
        "from sklearn.metrics import confusion_matrix, classification_report\n",
        " \n",
        "df = pd.read_csv(\"/content/drive/MyDrive/dataset/breast cancer\")\n",
        " \n",
        "del df['id']\n",
        "del df['Unnamed: 32']\n",
        "df.isnull().sum()"
      ],
      "metadata": {
        "id": "7if4ZtuPk6bz",
        "colab": {
          "base_uri": "https://localhost:8080/"
        },
        "outputId": "b0e76b6b-9a93-4357-d7e9-8a0f63838028"
      },
      "execution_count": 2,
      "outputs": [
        {
          "output_type": "execute_result",
          "data": {
            "text/plain": [
              "diagnosis                  0\n",
              "radius_mean                0\n",
              "texture_mean               0\n",
              "perimeter_mean             0\n",
              "area_mean                  0\n",
              "smoothness_mean            0\n",
              "compactness_mean           0\n",
              "concavity_mean             0\n",
              "concave points_mean        0\n",
              "symmetry_mean              0\n",
              "fractal_dimension_mean     0\n",
              "radius_se                  0\n",
              "texture_se                 0\n",
              "perimeter_se               0\n",
              "area_se                    0\n",
              "smoothness_se              0\n",
              "compactness_se             0\n",
              "concavity_se               0\n",
              "concave points_se          0\n",
              "symmetry_se                0\n",
              "fractal_dimension_se       0\n",
              "radius_worst               0\n",
              "texture_worst              0\n",
              "perimeter_worst            0\n",
              "area_worst                 0\n",
              "smoothness_worst           0\n",
              "compactness_worst          0\n",
              "concavity_worst            0\n",
              "concave points_worst       0\n",
              "symmetry_worst             0\n",
              "fractal_dimension_worst    0\n",
              "dtype: int64"
            ]
          },
          "metadata": {},
          "execution_count": 2
        }
      ]
    },
    {
      "cell_type": "code",
      "source": [
        "scaler = StandardScaler()\n",
        "scaler.fit(df.drop('diagnosis', axis=1))\n",
        "scaled_features = scaler.transform(df.drop('diagnosis', axis=1))\n",
        " \n",
        "X = scaled_features\n",
        "y = df['diagnosis']\n",
        " \n",
        "X_train, X_test, y_train, y_test = train_test_split(X, y, test_size=0.3, random_state=10, shuffle=True)\n",
        "\n",
        "model = KNeighborsClassifier(n_neighbors=5)\n",
        " \n",
        "model.fit(X_train, y_train)\n",
        " \n",
        "model_predict = model.predict(X_test)\n",
        " \n",
        "print(confusion_matrix(y_test, model_predict))\n",
        "print()\n",
        "print(classification_report(y_test, model_predict))\n"
      ],
      "metadata": {
        "colab": {
          "base_uri": "https://localhost:8080/"
        },
        "id": "QaWbiX3Voku-",
        "outputId": "e919e79e-9d55-4f02-84b4-696ff0dd83ec"
      },
      "execution_count": 3,
      "outputs": [
        {
          "output_type": "stream",
          "name": "stdout",
          "text": [
            "[[111   1]\n",
            " [  2  57]]\n",
            "\n",
            "              precision    recall  f1-score   support\n",
            "\n",
            "           B       0.98      0.99      0.99       112\n",
            "           M       0.98      0.97      0.97        59\n",
            "\n",
            "    accuracy                           0.98       171\n",
            "   macro avg       0.98      0.98      0.98       171\n",
            "weighted avg       0.98      0.98      0.98       171\n",
            "\n"
          ]
        }
      ]
    },
    {
      "cell_type": "code",
      "source": [
        "neighbors = []\n",
        "cv_scores = []\n",
        "\n",
        "from sklearn.model_selection import cross_val_score\n",
        "#perform 10 fold cross validation\n",
        "\n",
        "for k in range(1, 51, 2):\n",
        "  neighbors.append(k)\n",
        "  knn= KNeighborsClassifier(n_neighbors = k)\n",
        "  scores = cross_val_score(\n",
        "      knn, X_train, y_train, cv=10, scoring = 'accuracy')\n",
        "  cv_scores.append(scores.mean())\n",
        "  \n",
        "MSE = [1-x for x in cv_scores]\n",
        "\n",
        "#determine the best k\n",
        "optimal_k = neighbors[MSE.index(min(MSE))]\n",
        "print('The optimal number of neighbors is %d' % optimal_k)"
      ],
      "metadata": {
        "colab": {
          "base_uri": "https://localhost:8080/"
        },
        "id": "qkM2qj1zrHbm",
        "outputId": "07cd0eae-d47d-4740-fae2-8c5bd1448f37"
      },
      "execution_count": 4,
      "outputs": [
        {
          "output_type": "stream",
          "name": "stdout",
          "text": [
            "The optimal number of neighbors is 3\n"
          ]
        }
      ]
    },
    {
      "cell_type": "code",
      "source": [
        "import matplotlib.pyplot as plt\n",
        "\n",
        "plt.figure(figsize = (10,6))\n",
        "plt.plot(neighbors, MSE)\n",
        "plt.xlabel('number of neighbors')\n",
        "plt.ylabel('misclassification error')\n",
        "plt.show()"
      ],
      "metadata": {
        "colab": {
          "base_uri": "https://localhost:8080/",
          "height": 388
        },
        "id": "T3yunOgxsTQs",
        "outputId": "4b2abe07-007a-4cd9-f722-8a2d047239d2"
      },
      "execution_count": 5,
      "outputs": [
        {
          "output_type": "display_data",
          "data": {
            "text/plain": [
              "<Figure size 720x432 with 1 Axes>"
            ],
            "image/png": "[encoded data removed]"
          },
          "metadata": {
            "needs_background": "light"
          }
        }
      ]
    },
    {
      "cell_type": "code",
      "source": [
        "cols = df.columns.tolist()\n",
        "print(\"new_patient = [\")\n",
        "for item in cols:\n",
        "    print(\"\\0, \"+\"#\"+item)\n",
        "print(\"]\")\n"
      ],
      "metadata": {
        "id": "KlZfXDUPtJ7e",
        "colab": {
          "base_uri": "https://localhost:8080/"
        },
        "outputId": "6d6ffc07-c573-4e81-d8d3-f889442e3d8e"
      },
      "execution_count": 9,
      "outputs": [
        {
          "output_type": "stream",
          "name": "stdout",
          "text": [
            "new_patient = [\n",
            "\u0000, #diagnosis\n",
            "\u0000, #radius_mean\n",
            "\u0000, #texture_mean\n",
            "\u0000, #perimeter_mean\n",
            "\u0000, #area_mean\n",
            "\u0000, #smoothness_mean\n",
            "\u0000, #compactness_mean\n",
            "\u0000, #concavity_mean\n",
            "\u0000, #concave points_mean\n",
            "\u0000, #symmetry_mean\n",
            "\u0000, #fractal_dimension_mean\n",
            "\u0000, #radius_se\n",
            "\u0000, #texture_se\n",
            "\u0000, #perimeter_se\n",
            "\u0000, #area_se\n",
            "\u0000, #smoothness_se\n",
            "\u0000, #compactness_se\n",
            "\u0000, #concavity_se\n",
            "\u0000, #concave points_se\n",
            "\u0000, #symmetry_se\n",
            "\u0000, #fractal_dimension_se\n",
            "\u0000, #radius_worst\n",
            "\u0000, #texture_worst\n",
            "\u0000, #perimeter_worst\n",
            "\u0000, #area_worst\n",
            "\u0000, #smoothness_worst\n",
            "\u0000, #compactness_worst\n",
            "\u0000, #concavity_worst\n",
            "\u0000, #concave points_worst\n",
            "\u0000, #symmetry_worst\n",
            "\u0000, #fractal_dimension_worst\n",
            "]\n"
          ]
        }
      ]
    },
    {
      "cell_type": "code",
      "source": [
        "new_patient = [\n",
        "    11.76,\n",
        "    18.14,\n",
        "    75,\n",
        "    431.1,\n",
        "    0.09968,\n",
        "    0.05914,\n",
        "    0.02685,\n",
        "    0.03515,\n",
        "    0.1619,\n",
        "    0.06287,\n",
        "    0.645,\n",
        "    2.105,\n",
        "    4.138,\n",
        "    49.11,\n",
        "    0.005596,\n",
        "    0.01005,\n",
        "    0.01272,\n",
        "    0.01432,\n",
        "    0.01575,\n",
        "    0.002758,\n",
        "    13.36,\n",
        "    23.39,\n",
        "    85.1,\n",
        "    553.6,\n",
        "    0.1137,\n",
        "    0.07974,\n",
        "    0.0612,\n",
        "    0.0716,\n",
        "    0.1978,\n",
        "    0.06915\n",
        "]\n",
        "new_pred = model.predict([new_patient])\n",
        "new_pred\n"
      ],
      "metadata": {
        "id": "viZYxhWKtHAV",
        "colab": {
          "base_uri": "https://localhost:8080/"
        },
        "outputId": "494ee579-c520-4f67-ba51-294f5ba055e7"
      },
      "execution_count": 10,
      "outputs": [
        {
          "output_type": "execute_result",
          "data": {
            "text/plain": [
              "array(['M'], dtype=object)"
            ]
          },
          "metadata": {},
          "execution_count": 10
        }
      ]
    }
  ]
}