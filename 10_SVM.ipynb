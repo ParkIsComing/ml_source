{
  "nbformat": 4,
  "nbformat_minor": 0,
  "metadata": {
    "colab": {
      "provenance": []
    },
    "kernelspec": {
      "name": "python3",
      "display_name": "Python 3"
    },
    "language_info": {
      "name": "python"
    }
  },
  "cells": [
    {
      "cell_type": "code",
      "execution_count": null,
      "metadata": {
        "id": "2O_Sb2AjkxNo",
        "colab": {
          "base_uri": "https://localhost:8080/"
        },
        "outputId": "1229b53e-287a-459f-c8f3-7b352feb9ab5"
      },
      "outputs": [
        {
          "output_type": "stream",
          "name": "stdout",
          "text": [
            "Mounted at /content/drive\n"
          ]
        }
      ],
      "source": [
        "from google.colab import drive\n",
        "drive.mount('/content/drive')"
      ]
    },
    {
      "cell_type": "code",
      "source": [
        "\n",
        "import pandas as pd\n",
        "from sklearn.model_selection import train_test_split\n",
        "from sklearn.svm import SVC\n",
        "from sklearn.metrics import classification_report, confusion_matrix\n",
        "from sklearn.model_selection import GridSearchCV\n",
        "from sklearn.linear_model import LogisticRegression\n",
        "\n",
        "\n",
        "\n",
        "%matplotlib inline\n",
        "df= pd.read_csv('/content/drive/Othercomputers/내 노트북/3-2/기계학습/data/advertising1.csv')\n"
      ],
      "metadata": {
        "id": "47PqCWo3k1cT"
      },
      "execution_count": null,
      "outputs": []
    },
    {
      "cell_type": "code",
      "source": [
        "del df['Ad Topic Line']\n",
        "del df['Timestamp']\n",
        "\n",
        "df = pd.get_dummies(df, columns = ['Country','City'])\n",
        "\n",
        "X= df.drop('Clicked on Ad', axis=1)\n",
        "y = df['Clicked on Ad']\n",
        "\n",
        "X_train, X_test, y_train, y_test = train_test_split(X, y, test_size=0.3, random_state=10)\n"
      ],
      "metadata": {
        "id": "iGkyIyeRrn3z"
      },
      "execution_count": null,
      "outputs": []
    },
    {
      "cell_type": "markdown",
      "source": [
        "# Support Vector Machine\n"
      ],
      "metadata": {
        "id": "gMy8DWheydi9"
      }
    },
    {
      "cell_type": "code",
      "source": [
        "model = SVC()\n",
        "model.fit(X_train, y_train)\n",
        "\n",
        "model_predict = model.predict(X_test)\n",
        "\n",
        "print(confusion_matrix(y_test, model_predict))\n",
        "print()\n",
        "print(classification_report(y_test, model_predict))"
      ],
      "metadata": {
        "colab": {
          "base_uri": "https://localhost:8080/"
        },
        "id": "RHIz17wit-MO",
        "outputId": "9ce47fce-f7a6-437d-e551-1fddf03d248f"
      },
      "execution_count": null,
      "outputs": [
        {
          "output_type": "stream",
          "name": "stdout",
          "text": [
            "[[124  22]\n",
            " [ 68  86]]\n",
            "\n",
            "              precision    recall  f1-score   support\n",
            "\n",
            "           0       0.65      0.85      0.73       146\n",
            "           1       0.80      0.56      0.66       154\n",
            "\n",
            "    accuracy                           0.70       300\n",
            "   macro avg       0.72      0.70      0.70       300\n",
            "weighted avg       0.72      0.70      0.69       300\n",
            "\n"
          ]
        }
      ]
    },
    {
      "cell_type": "code",
      "source": [
        "hyperparameters = {'C':[10,25,50,70], 'gamma':[0.001,.0001,0.00001]} #dic인거 주의\n",
        "grid = GridSearchCV(SVC(), hyperparameters)\n",
        "grid.fit(X_train, y_train)\n",
        "grid.best_params_\n",
        "\n"
      ],
      "metadata": {
        "colab": {
          "base_uri": "https://localhost:8080/"
        },
        "id": "7VGL_fNivxUi",
        "outputId": "7eb985b5-ecf6-492b-c067-382ffd2f8ce1"
      },
      "execution_count": null,
      "outputs": [
        {
          "output_type": "execute_result",
          "data": {
            "text/plain": [
              "{'C': 70, 'gamma': 1e-05}"
            ]
          },
          "metadata": {},
          "execution_count": 12
        }
      ]
    },
    {
      "cell_type": "code",
      "source": [
        "grid_predictions = grid.predict(X_test)\n",
        "\n",
        "#Confusion matrix \n",
        "print(confusion_matrix(y_test,grid_predictions))\n",
        "\n",
        "#Classification report \n",
        "print(classification_report(y_test,grid_predictions)) \n"
      ],
      "metadata": {
        "colab": {
          "base_uri": "https://localhost:8080/"
        },
        "id": "2ffibvElvzV1",
        "outputId": "b3ac686b-9c24-4ee1-f504-199dd96753ba"
      },
      "execution_count": null,
      "outputs": [
        {
          "output_type": "stream",
          "name": "stdout",
          "text": [
            "[[130  16]\n",
            " [ 15 139]]\n",
            "              precision    recall  f1-score   support\n",
            "\n",
            "           0       0.90      0.89      0.89       146\n",
            "           1       0.90      0.90      0.90       154\n",
            "\n",
            "    accuracy                           0.90       300\n",
            "   macro avg       0.90      0.90      0.90       300\n",
            "weighted avg       0.90      0.90      0.90       300\n",
            "\n"
          ]
        }
      ]
    },
    {
      "cell_type": "markdown",
      "source": [
        "# Logistic Regression"
      ],
      "metadata": {
        "id": "nHpj5j04yWI2"
      }
    },
    {
      "cell_type": "code",
      "source": [
        "model2 = LogisticRegression()\n",
        "model.fit(X_train, y_train)\n",
        "\n",
        "model_predict = model.predict(X_test)\n",
        "\n",
        "print(confusion_matrix(y_test, model_predict))\n",
        "\n",
        "print(classification_report(y_test, model_predict))"
      ],
      "metadata": {
        "colab": {
          "base_uri": "https://localhost:8080/"
        },
        "id": "E7j6U1cGx0nC",
        "outputId": "b0b197c0-8efc-41fb-d061-a30ea73409c7"
      },
      "execution_count": null,
      "outputs": [
        {
          "output_type": "stream",
          "name": "stdout",
          "text": [
            "[[124  22]\n",
            " [ 68  86]]\n",
            "              precision    recall  f1-score   support\n",
            "\n",
            "           0       0.65      0.85      0.73       146\n",
            "           1       0.80      0.56      0.66       154\n",
            "\n",
            "    accuracy                           0.70       300\n",
            "   macro avg       0.72      0.70      0.70       300\n",
            "weighted avg       0.72      0.70      0.69       300\n",
            "\n"
          ]
        }
      ]
    }
  ]
}